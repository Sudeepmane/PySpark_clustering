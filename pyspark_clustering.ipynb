{
  "nbformat": 4,
  "nbformat_minor": 0,
  "metadata": {
    "colab": {
      "provenance": []
    },
    "kernelspec": {
      "name": "python3",
      "display_name": "Python 3"
    },
    "language_info": {
      "name": "python"
    }
  },
  "cells": [
    {
      "cell_type": "code",
      "execution_count": null,
      "metadata": {
        "id": "wkIXQyVOZpro"
      },
      "outputs": [],
      "source": [
        "from pyspark.sql import SparkSession"
      ]
    },
    {
      "cell_type": "code",
      "source": [
        "spark=SparkSession.builder.getOrCreate()"
      ],
      "metadata": {
        "id": "utVk2WzqZ5Ld"
      },
      "execution_count": null,
      "outputs": []
    },
    {
      "cell_type": "code",
      "source": [
        "df=spark.read.csv(\"/content/seeds.csv\",header=True,inferSchema=True)"
      ],
      "metadata": {
        "id": "XBI3wvb1Z9TW"
      },
      "execution_count": null,
      "outputs": []
    },
    {
      "cell_type": "code",
      "source": [
        "df.printSchema()"
      ],
      "metadata": {
        "colab": {
          "base_uri": "https://localhost:8080/"
        },
        "id": "-UqoPszraRG4",
        "outputId": "c711d5bf-9b38-482f-afe2-2cfe662a6bdb"
      },
      "execution_count": null,
      "outputs": [
        {
          "output_type": "stream",
          "name": "stdout",
          "text": [
            "root\n",
            " |-- AREA: double (nullable = true)\n",
            " |-- PERIMETER: double (nullable = true)\n",
            " |-- COMPACTNESS: double (nullable = true)\n",
            " |-- LENGTH: double (nullable = true)\n",
            " |-- WIDTH: double (nullable = true)\n",
            " |-- ASSYMMETRY_COEFFICIENT: double (nullable = true)\n",
            " |-- GROOVE_LENGTH: double (nullable = true)\n",
            " |-- TYPE: integer (nullable = true)\n",
            "\n"
          ]
        }
      ]
    },
    {
      "cell_type": "code",
      "source": [
        "df.show()"
      ],
      "metadata": {
        "colab": {
          "base_uri": "https://localhost:8080/"
        },
        "id": "XJ0fh2eXaXwt",
        "outputId": "5c774113-9479-472b-c4b9-4999f397d95a"
      },
      "execution_count": null,
      "outputs": [
        {
          "output_type": "stream",
          "name": "stdout",
          "text": [
            "+-----+---------+-----------+------+-----+----------------------+-------------+----+\n",
            "| AREA|PERIMETER|COMPACTNESS|LENGTH|WIDTH|ASSYMMETRY_COEFFICIENT|GROOVE_LENGTH|TYPE|\n",
            "+-----+---------+-----------+------+-----+----------------------+-------------+----+\n",
            "|15.26|    14.84|      0.871| 5.763|3.312|                 2.221|         5.22|   1|\n",
            "|14.88|    14.57|     0.8811| 5.554|3.333|                 1.018|        4.956|   1|\n",
            "|14.29|    14.09|      0.905| 5.291|3.337|                 2.699|        4.825|   1|\n",
            "|13.84|    13.94|     0.8955| 5.324|3.379|                 2.259|        4.805|   1|\n",
            "|16.14|    14.99|     0.9034| 5.658|3.562|                 1.355|        5.175|   1|\n",
            "|14.38|    14.21|     0.8951| 5.386|3.312|                 2.462|        4.956|   1|\n",
            "|14.69|    14.49|     0.8799| 5.563|3.259|                 3.586|        5.219|   1|\n",
            "|14.11|     14.1|     0.8911|  5.42|3.302|                   2.7|          5.0|   1|\n",
            "|16.63|    15.46|     0.8747| 6.053|3.465|                  2.04|        5.877|   1|\n",
            "|16.44|    15.25|      0.888| 5.884|3.505|                 1.969|        5.533|   1|\n",
            "|15.26|    14.85|     0.8696| 5.714|3.242|                 4.543|        5.314|   1|\n",
            "|14.03|    14.16|     0.8796| 5.438|3.201|                 1.717|        5.001|   1|\n",
            "|13.89|    14.02|      0.888| 5.439|3.199|                 3.986|        4.738|   1|\n",
            "|13.78|    14.06|     0.8759| 5.479|3.156|                 3.136|        4.872|   1|\n",
            "|13.74|    14.05|     0.8744| 5.482|3.114|                 2.932|        4.825|   1|\n",
            "|14.59|    14.28|     0.8993| 5.351|3.333|                 4.185|        4.781|   1|\n",
            "|13.99|    13.83|     0.9183| 5.119|3.383|                 5.234|        4.781|   1|\n",
            "|15.69|    14.75|     0.9058| 5.527|3.514|                 1.599|        5.046|   1|\n",
            "| 14.7|    14.21|     0.9153| 5.205|3.466|                 1.767|        4.649|   1|\n",
            "|12.72|    13.57|     0.8686| 5.226|3.049|                 4.102|        4.914|   1|\n",
            "+-----+---------+-----------+------+-----+----------------------+-------------+----+\n",
            "only showing top 20 rows\n",
            "\n"
          ]
        }
      ]
    },
    {
      "cell_type": "code",
      "source": [
        "df.groupBy('TYPE').count().show()"
      ],
      "metadata": {
        "colab": {
          "base_uri": "https://localhost:8080/"
        },
        "id": "c-aPeiE8ablU",
        "outputId": "e2df13fb-13fd-4d43-8a57-e2c1b4abb663"
      },
      "execution_count": null,
      "outputs": [
        {
          "output_type": "stream",
          "name": "stdout",
          "text": [
            "+----+-----+\n",
            "|TYPE|count|\n",
            "+----+-----+\n",
            "|   1|   70|\n",
            "|   2|   70|\n",
            "+----+-----+\n",
            "\n"
          ]
        }
      ]
    },
    {
      "cell_type": "code",
      "source": [
        "df.count()"
      ],
      "metadata": {
        "colab": {
          "base_uri": "https://localhost:8080/"
        },
        "id": "7XR0OqE7asZs",
        "outputId": "d7ec7dab-daba-4c8d-bc24-caf02db757dc"
      },
      "execution_count": null,
      "outputs": [
        {
          "output_type": "execute_result",
          "data": {
            "text/plain": [
              "140"
            ]
          },
          "metadata": {},
          "execution_count": 13
        }
      ]
    },
    {
      "cell_type": "code",
      "source": [
        "from pyspark.ml.clustering import KMeans\n",
        "from pyspark.ml.feature import VectorAssembler, StandardScaler"
      ],
      "metadata": {
        "id": "K3LWK5Ara35J"
      },
      "execution_count": null,
      "outputs": []
    },
    {
      "cell_type": "code",
      "source": [
        "# Exclude 'TYPE' column for clustering\n",
        "feature_cols = [col for col in df.columns if col != 'TYPE']"
      ],
      "metadata": {
        "id": "9365ex88bW8T"
      },
      "execution_count": null,
      "outputs": []
    },
    {
      "cell_type": "code",
      "source": [
        "# Step 1: Assemble feature vector\n",
        "assembler = VectorAssembler(inputCols=feature_cols, outputCol=\"unscaled_features\")\n",
        "df_vector = assembler.transform(df)"
      ],
      "metadata": {
        "id": "JszwWpwze_Ig"
      },
      "execution_count": null,
      "outputs": []
    },
    {
      "cell_type": "code",
      "source": [
        "# Step 2: Scale features\n",
        "scaler = StandardScaler(inputCol=\"unscaled_features\", outputCol=\"features\", withStd=True, withMean=True)\n",
        "scaler_model = scaler.fit(df_vector)\n",
        "df_scaled = scaler_model.transform(df_vector)"
      ],
      "metadata": {
        "id": "NiUnTR2cfIPi"
      },
      "execution_count": null,
      "outputs": []
    },
    {
      "cell_type": "code",
      "source": [
        "# Apply KMeans\n",
        "kmeans = KMeans(featuresCol='features', k=2)\n",
        "model = kmeans.fit(df_scaled)"
      ],
      "metadata": {
        "id": "C0vcWhjrfOPE"
      },
      "execution_count": null,
      "outputs": []
    },
    {
      "cell_type": "code",
      "source": [
        "# Predictions\n",
        "predictions = model.transform(df_scaled)\n",
        "predictions.select(\"prediction\").show(5)"
      ],
      "metadata": {
        "colab": {
          "base_uri": "https://localhost:8080/"
        },
        "id": "jpglmTU_fS9B",
        "outputId": "f323a3b4-02a0-4aac-be69-3912b32d7cf9"
      },
      "execution_count": null,
      "outputs": [
        {
          "output_type": "stream",
          "name": "stdout",
          "text": [
            "+----------+\n",
            "|prediction|\n",
            "+----------+\n",
            "|         1|\n",
            "|         1|\n",
            "|         1|\n",
            "|         1|\n",
            "|         1|\n",
            "+----------+\n",
            "only showing top 5 rows\n",
            "\n"
          ]
        }
      ]
    },
    {
      "cell_type": "code",
      "source": [
        "from pyspark.ml.evaluation import ClusteringEvaluator\n",
        "\n",
        "evaluator = ClusteringEvaluator(featuresCol='features', metricName='silhouette', distanceMeasure='squaredEuclidean')\n",
        "silhouette = evaluator.evaluate(predictions)\n",
        "print(f\"Silhouette Score: {silhouette:.4f}\")"
      ],
      "metadata": {
        "colab": {
          "base_uri": "https://localhost:8080/"
        },
        "id": "HNjvyhY_fe29",
        "outputId": "908618d1-e2a1-44f4-f6b9-3ea224e1d82e"
      },
      "execution_count": null,
      "outputs": [
        {
          "output_type": "stream",
          "name": "stdout",
          "text": [
            "Silhouette Score: 0.6463\n"
          ]
        }
      ]
    },
    {
      "cell_type": "code",
      "source": [
        "predictions.groupBy(\"TYPE\", \"prediction\").count().orderBy(\"TYPE\").show()\n"
      ],
      "metadata": {
        "colab": {
          "base_uri": "https://localhost:8080/"
        },
        "id": "Yam83C3Cfx1P",
        "outputId": "ab3b69f1-928a-4ae6-f345-922e8c356a81"
      },
      "execution_count": null,
      "outputs": [
        {
          "output_type": "stream",
          "name": "stdout",
          "text": [
            "+----+----------+-----+\n",
            "|TYPE|prediction|count|\n",
            "+----+----------+-----+\n",
            "|   1|         0|    2|\n",
            "|   1|         1|   68|\n",
            "|   2|         1|    7|\n",
            "|   2|         0|   63|\n",
            "+----+----------+-----+\n",
            "\n"
          ]
        }
      ]
    },
    {
      "cell_type": "code",
      "source": [
        "for k in range(2, 10):\n",
        "    kmeans = KMeans(featuresCol='features', k=k, seed=1)\n",
        "    model = kmeans.fit(df_scaled)\n",
        "    pred = model.transform(df_scaled)\n",
        "    score = evaluator.evaluate(pred)\n",
        "    print(f\"k = {k}, Silhouette Score = {score:.4f}\")\n"
      ],
      "metadata": {
        "colab": {
          "base_uri": "https://localhost:8080/"
        },
        "id": "qx6nY9tJgFHd",
        "outputId": "d7fe1c78-5135-474d-b718-7e9d44e31b4d"
      },
      "execution_count": null,
      "outputs": [
        {
          "output_type": "stream",
          "name": "stdout",
          "text": [
            "k = 2, Silhouette Score = 0.6463\n",
            "k = 3, Silhouette Score = 0.4681\n",
            "k = 4, Silhouette Score = 0.3617\n",
            "k = 5, Silhouette Score = 0.4128\n",
            "k = 6, Silhouette Score = 0.3776\n",
            "k = 7, Silhouette Score = 0.4069\n",
            "k = 8, Silhouette Score = 0.3820\n",
            "k = 9, Silhouette Score = 0.3841\n"
          ]
        }
      ]
    }
  ]
}